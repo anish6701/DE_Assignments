{
  "nbformat": 4,
  "nbformat_minor": 0,
  "metadata": {
    "colab": {
      "provenance": [],
      "authorship_tag": "ABX9TyOjMzpSxE7ptLZMLsYUCkXA",
      "include_colab_link": true
    },
    "kernelspec": {
      "name": "python3",
      "display_name": "Python 3"
    },
    "language_info": {
      "name": "python"
    }
  },
  "cells": [
    {
      "cell_type": "markdown",
      "metadata": {
        "id": "view-in-github",
        "colab_type": "text"
      },
      "source": [
        "<a href=\"https://colab.research.google.com/github/anish6701/DE_Assignments/blob/main/SQL_Assignment_1.ipynb\" target=\"_parent\"><img src=\"https://colab.research.google.com/assets/colab-badge.svg\" alt=\"Open In Colab\"/></a>"
      ]
    },
    {
      "cell_type": "code",
      "execution_count": 1,
      "metadata": {
        "colab": {
          "base_uri": "https://localhost:8080/"
        },
        "id": "i9wZwIzMb325",
        "outputId": "2bc03f70-5414-4a6e-bd78-84a78813ffac"
      },
      "outputs": [
        {
          "output_type": "stream",
          "name": "stdout",
          "text": [
            "Requirement already satisfied: ipython-sql in /usr/local/lib/python3.10/dist-packages (0.5.0)\n",
            "Requirement already satisfied: prettytable in /usr/local/lib/python3.10/dist-packages (from ipython-sql) (3.11.0)\n",
            "Requirement already satisfied: ipython in /usr/local/lib/python3.10/dist-packages (from ipython-sql) (7.34.0)\n",
            "Requirement already satisfied: sqlalchemy>=2.0 in /usr/local/lib/python3.10/dist-packages (from ipython-sql) (2.0.35)\n",
            "Requirement already satisfied: sqlparse in /usr/local/lib/python3.10/dist-packages (from ipython-sql) (0.5.1)\n",
            "Requirement already satisfied: six in /usr/local/lib/python3.10/dist-packages (from ipython-sql) (1.16.0)\n",
            "Requirement already satisfied: ipython-genutils in /usr/local/lib/python3.10/dist-packages (from ipython-sql) (0.2.0)\n",
            "Requirement already satisfied: typing-extensions>=4.6.0 in /usr/local/lib/python3.10/dist-packages (from sqlalchemy>=2.0->ipython-sql) (4.12.2)\n",
            "Requirement already satisfied: greenlet!=0.4.17 in /usr/local/lib/python3.10/dist-packages (from sqlalchemy>=2.0->ipython-sql) (3.1.1)\n",
            "Requirement already satisfied: setuptools>=18.5 in /usr/local/lib/python3.10/dist-packages (from ipython->ipython-sql) (71.0.4)\n",
            "Collecting jedi>=0.16 (from ipython->ipython-sql)\n",
            "  Using cached jedi-0.19.1-py2.py3-none-any.whl.metadata (22 kB)\n",
            "Requirement already satisfied: decorator in /usr/local/lib/python3.10/dist-packages (from ipython->ipython-sql) (4.4.2)\n",
            "Requirement already satisfied: pickleshare in /usr/local/lib/python3.10/dist-packages (from ipython->ipython-sql) (0.7.5)\n",
            "Requirement already satisfied: traitlets>=4.2 in /usr/local/lib/python3.10/dist-packages (from ipython->ipython-sql) (5.7.1)\n",
            "Requirement already satisfied: prompt-toolkit!=3.0.0,!=3.0.1,<3.1.0,>=2.0.0 in /usr/local/lib/python3.10/dist-packages (from ipython->ipython-sql) (3.0.47)\n",
            "Requirement already satisfied: pygments in /usr/local/lib/python3.10/dist-packages (from ipython->ipython-sql) (2.18.0)\n",
            "Requirement already satisfied: backcall in /usr/local/lib/python3.10/dist-packages (from ipython->ipython-sql) (0.2.0)\n",
            "Requirement already satisfied: matplotlib-inline in /usr/local/lib/python3.10/dist-packages (from ipython->ipython-sql) (0.1.7)\n",
            "Requirement already satisfied: pexpect>4.3 in /usr/local/lib/python3.10/dist-packages (from ipython->ipython-sql) (4.9.0)\n",
            "Requirement already satisfied: wcwidth in /usr/local/lib/python3.10/dist-packages (from prettytable->ipython-sql) (0.2.13)\n",
            "Requirement already satisfied: parso<0.9.0,>=0.8.3 in /usr/local/lib/python3.10/dist-packages (from jedi>=0.16->ipython->ipython-sql) (0.8.4)\n",
            "Requirement already satisfied: ptyprocess>=0.5 in /usr/local/lib/python3.10/dist-packages (from pexpect>4.3->ipython->ipython-sql) (0.7.0)\n",
            "Using cached jedi-0.19.1-py2.py3-none-any.whl (1.6 MB)\n",
            "Installing collected packages: jedi\n",
            "Successfully installed jedi-0.19.1\n"
          ]
        }
      ],
      "source": [
        "%pip install ipython-sql"
      ]
    },
    {
      "cell_type": "markdown",
      "source": [
        "**Above installing the required library**\n",
        "\n",
        "**Below Laoding sql package and using SQLite **\n",
        "\n",
        "\n"
      ],
      "metadata": {
        "id": "ZbrUP6klcMza"
      }
    },
    {
      "cell_type": "code",
      "source": [
        "%load_ext sql\n",
        "%sql sqlite://"
      ],
      "metadata": {
        "id": "016RBY19cfu0"
      },
      "execution_count": 2,
      "outputs": []
    },
    {
      "cell_type": "code",
      "source": [
        "%%sql\n",
        "CREATE TABLE Customers (\n",
        "\n",
        "    CustomerID INT PRIMARY KEY,\n",
        "    FirstName NVARCHAR(50),\n",
        "    LastName NVARCHAR(50),\n",
        "    Email NVARCHAR(100),\n",
        "    BirthDate DATE\n",
        "\n",
        ");\n",
        "\n"
      ],
      "metadata": {
        "colab": {
          "base_uri": "https://localhost:8080/"
        },
        "id": "qQ0XueVScjlm",
        "outputId": "6da4c61d-5c34-4eb8-cb2e-ca3bf9dbae14"
      },
      "execution_count": 6,
      "outputs": [
        {
          "output_type": "stream",
          "name": "stdout",
          "text": [
            " * sqlite://\n",
            "Done.\n"
          ]
        },
        {
          "output_type": "execute_result",
          "data": {
            "text/plain": [
              "[]"
            ]
          },
          "metadata": {},
          "execution_count": 6
        }
      ]
    },
    {
      "cell_type": "markdown",
      "source": [
        "**The query is being executed to create a table with column names CustomerID, FirstName, LastName, Email, BirthDate.**"
      ],
      "metadata": {
        "id": "NktMjVqTc2IP"
      }
    },
    {
      "cell_type": "code",
      "source": [
        "%%sql\n",
        "select * from Customers;"
      ],
      "metadata": {
        "colab": {
          "base_uri": "https://localhost:8080/",
          "height": 75
        },
        "id": "5eL24n2Tc56f",
        "outputId": "ed533531-91c5-4582-9dc8-895e622474ca"
      },
      "execution_count": 7,
      "outputs": [
        {
          "output_type": "stream",
          "name": "stdout",
          "text": [
            " * sqlite://\n",
            "Done.\n"
          ]
        },
        {
          "output_type": "execute_result",
          "data": {
            "text/plain": [
              "[]"
            ],
            "text/html": [
              "<table>\n",
              "    <thead>\n",
              "        <tr>\n",
              "            <th>CustomerID</th>\n",
              "            <th>FirstName</th>\n",
              "            <th>LastName</th>\n",
              "            <th>Email</th>\n",
              "            <th>BirthDate</th>\n",
              "        </tr>\n",
              "    </thead>\n",
              "    <tbody>\n",
              "    </tbody>\n",
              "</table>"
            ]
          },
          "metadata": {},
          "execution_count": 7
        }
      ]
    },
    {
      "cell_type": "markdown",
      "source": [
        "\n",
        "The code above executes to give the output of a empty table with column names given above **bold text**"
      ],
      "metadata": {
        "id": "VMU2HkJ3c_93"
      }
    },
    {
      "cell_type": "code",
      "source": [
        "%%sql\n",
        "INSERT INTO Customers (CustomerID, FirstName, LastName, Email, BirthDate)\n",
        "\n",
        "VALUES (1, 'John', 'Doe', 'johndoe22@example.com', '1990-01-01'),\n",
        "(2, 'Johny', 'Dooe', 'jon23@example.com', '1890-01-01'),\n",
        "(3, 'Janardan', 'vaid', 'joe90@example.com', '1994-05-10'),\n",
        "(4, 'Jay', 'Rao', 'jay@example.com', '1999-09-16');\n"
      ],
      "metadata": {
        "colab": {
          "base_uri": "https://localhost:8080/"
        },
        "id": "ZbUJ-rnAdFSo",
        "outputId": "725c3ce1-0033-43a0-b6f3-ba63044a4c8f"
      },
      "execution_count": 8,
      "outputs": [
        {
          "output_type": "stream",
          "name": "stdout",
          "text": [
            " * sqlite://\n",
            "4 rows affected.\n"
          ]
        },
        {
          "output_type": "execute_result",
          "data": {
            "text/plain": [
              "[]"
            ]
          },
          "metadata": {},
          "execution_count": 8
        }
      ]
    },
    {
      "cell_type": "code",
      "source": [
        "%%sql\n",
        "select * from Customers;"
      ],
      "metadata": {
        "colab": {
          "base_uri": "https://localhost:8080/",
          "height": 161
        },
        "id": "A_JiIUxSdKfI",
        "outputId": "3244df59-e16a-4272-b831-7bbaf0331a11"
      },
      "execution_count": 9,
      "outputs": [
        {
          "output_type": "stream",
          "name": "stdout",
          "text": [
            " * sqlite://\n",
            "Done.\n"
          ]
        },
        {
          "output_type": "execute_result",
          "data": {
            "text/plain": [
              "[(1, 'John', 'Doe', 'johndoe22@example.com', '1990-01-01'),\n",
              " (2, 'Johny', 'Dooe', 'jon23@example.com', '1890-01-01'),\n",
              " (3, 'Janardan', 'vaid', 'joe90@example.com', '1994-05-10'),\n",
              " (4, 'Jay', 'Rao', 'jay@example.com', '1999-09-16')]"
            ],
            "text/html": [
              "<table>\n",
              "    <thead>\n",
              "        <tr>\n",
              "            <th>CustomerID</th>\n",
              "            <th>FirstName</th>\n",
              "            <th>LastName</th>\n",
              "            <th>Email</th>\n",
              "            <th>BirthDate</th>\n",
              "        </tr>\n",
              "    </thead>\n",
              "    <tbody>\n",
              "        <tr>\n",
              "            <td>1</td>\n",
              "            <td>John</td>\n",
              "            <td>Doe</td>\n",
              "            <td>johndoe22@example.com</td>\n",
              "            <td>1990-01-01</td>\n",
              "        </tr>\n",
              "        <tr>\n",
              "            <td>2</td>\n",
              "            <td>Johny</td>\n",
              "            <td>Dooe</td>\n",
              "            <td>jon23@example.com</td>\n",
              "            <td>1890-01-01</td>\n",
              "        </tr>\n",
              "        <tr>\n",
              "            <td>3</td>\n",
              "            <td>Janardan</td>\n",
              "            <td>vaid</td>\n",
              "            <td>joe90@example.com</td>\n",
              "            <td>1994-05-10</td>\n",
              "        </tr>\n",
              "        <tr>\n",
              "            <td>4</td>\n",
              "            <td>Jay</td>\n",
              "            <td>Rao</td>\n",
              "            <td>jay@example.com</td>\n",
              "            <td>1999-09-16</td>\n",
              "        </tr>\n",
              "    </tbody>\n",
              "</table>"
            ]
          },
          "metadata": {},
          "execution_count": 9
        }
      ]
    },
    {
      "cell_type": "code",
      "source": [
        "%%sql\n",
        "\n",
        "CREATE VIEW ActiveCustomers AS\n",
        "SELECT CustomerID, FirstName, LastName\n",
        "FROM Customers\n",
        "WHERE BirthDate >= '1990-01-01';"
      ],
      "metadata": {
        "colab": {
          "base_uri": "https://localhost:8080/"
        },
        "id": "g2Q2kA5odPCX",
        "outputId": "d84cbbaa-37e1-49ca-edac-4c362f7ee0f9"
      },
      "execution_count": 10,
      "outputs": [
        {
          "output_type": "stream",
          "name": "stdout",
          "text": [
            " * sqlite://\n",
            "Done.\n"
          ]
        },
        {
          "output_type": "execute_result",
          "data": {
            "text/plain": [
              "[]"
            ]
          },
          "metadata": {},
          "execution_count": 10
        }
      ]
    },
    {
      "cell_type": "code",
      "source": [
        "%%sql\n",
        "select * from ActiveCustomers;\n"
      ],
      "metadata": {
        "colab": {
          "base_uri": "https://localhost:8080/",
          "height": 139
        },
        "id": "Kk-f-x3KdUYb",
        "outputId": "8c94374b-c38d-47ec-80e3-c31cf346d450"
      },
      "execution_count": 11,
      "outputs": [
        {
          "output_type": "stream",
          "name": "stdout",
          "text": [
            " * sqlite://\n",
            "Done.\n"
          ]
        },
        {
          "output_type": "execute_result",
          "data": {
            "text/plain": [
              "[(1, 'John', 'Doe'), (3, 'Janardan', 'vaid'), (4, 'Jay', 'Rao')]"
            ],
            "text/html": [
              "<table>\n",
              "    <thead>\n",
              "        <tr>\n",
              "            <th>CustomerID</th>\n",
              "            <th>FirstName</th>\n",
              "            <th>LastName</th>\n",
              "        </tr>\n",
              "    </thead>\n",
              "    <tbody>\n",
              "        <tr>\n",
              "            <td>1</td>\n",
              "            <td>John</td>\n",
              "            <td>Doe</td>\n",
              "        </tr>\n",
              "        <tr>\n",
              "            <td>3</td>\n",
              "            <td>Janardan</td>\n",
              "            <td>vaid</td>\n",
              "        </tr>\n",
              "        <tr>\n",
              "            <td>4</td>\n",
              "            <td>Jay</td>\n",
              "            <td>Rao</td>\n",
              "        </tr>\n",
              "    </tbody>\n",
              "</table>"
            ]
          },
          "metadata": {},
          "execution_count": 11
        }
      ]
    },
    {
      "cell_type": "markdown",
      "source": [
        "The command executes to view the customers table with specific column names only in cell 10\n",
        "\n",
        "This command shows the only values where BirthDate >= '1990-01-01' in cell 11"
      ],
      "metadata": {
        "id": "P4lX5Awoda7b"
      }
    },
    {
      "cell_type": "markdown",
      "source": [
        "ASSIGNMENT FOR THE CUSTOMER TABLE\n",
        "\n",
        "Alter the Customers Table\n",
        "\n",
        "You realize that you need to track phone numbers for each customer. Modify the Customers table to include a new column called PhoneNumber (of type NVARCHAR(20)).\n",
        "\n",
        "1.    Write a SQL query to add the PhoneNumber column to the Customers table."
      ],
      "metadata": {
        "id": "dsdBOp9mdsJj"
      }
    },
    {
      "cell_type": "code",
      "source": [
        "%%sql\n",
        "\n",
        "ALTER TABLE Customers\n",
        "Add PhoneNumber NVARCHAR(20) ;"
      ],
      "metadata": {
        "colab": {
          "base_uri": "https://localhost:8080/"
        },
        "id": "j0FJbiVTdnv0",
        "outputId": "e2c4378f-4a4f-4abd-cbd4-bd85412d7211"
      },
      "execution_count": 12,
      "outputs": [
        {
          "output_type": "stream",
          "name": "stdout",
          "text": [
            " * sqlite://\n",
            "Done.\n"
          ]
        },
        {
          "output_type": "execute_result",
          "data": {
            "text/plain": [
              "[]"
            ]
          },
          "metadata": {},
          "execution_count": 12
        }
      ]
    },
    {
      "cell_type": "code",
      "source": [
        "%%sql\n",
        "select * from Customers;"
      ],
      "metadata": {
        "colab": {
          "base_uri": "https://localhost:8080/",
          "height": 161
        },
        "id": "LC4KsvYSdwml",
        "outputId": "83a2eb34-93c4-4da1-b1d8-fe028662b281"
      },
      "execution_count": 13,
      "outputs": [
        {
          "output_type": "stream",
          "name": "stdout",
          "text": [
            " * sqlite://\n",
            "Done.\n"
          ]
        },
        {
          "output_type": "execute_result",
          "data": {
            "text/plain": [
              "[(1, 'John', 'Doe', 'johndoe22@example.com', '1990-01-01', None),\n",
              " (2, 'Johny', 'Dooe', 'jon23@example.com', '1890-01-01', None),\n",
              " (3, 'Janardan', 'vaid', 'joe90@example.com', '1994-05-10', None),\n",
              " (4, 'Jay', 'Rao', 'jay@example.com', '1999-09-16', None)]"
            ],
            "text/html": [
              "<table>\n",
              "    <thead>\n",
              "        <tr>\n",
              "            <th>CustomerID</th>\n",
              "            <th>FirstName</th>\n",
              "            <th>LastName</th>\n",
              "            <th>Email</th>\n",
              "            <th>BirthDate</th>\n",
              "            <th>PhoneNumber</th>\n",
              "        </tr>\n",
              "    </thead>\n",
              "    <tbody>\n",
              "        <tr>\n",
              "            <td>1</td>\n",
              "            <td>John</td>\n",
              "            <td>Doe</td>\n",
              "            <td>johndoe22@example.com</td>\n",
              "            <td>1990-01-01</td>\n",
              "            <td>None</td>\n",
              "        </tr>\n",
              "        <tr>\n",
              "            <td>2</td>\n",
              "            <td>Johny</td>\n",
              "            <td>Dooe</td>\n",
              "            <td>jon23@example.com</td>\n",
              "            <td>1890-01-01</td>\n",
              "            <td>None</td>\n",
              "        </tr>\n",
              "        <tr>\n",
              "            <td>3</td>\n",
              "            <td>Janardan</td>\n",
              "            <td>vaid</td>\n",
              "            <td>joe90@example.com</td>\n",
              "            <td>1994-05-10</td>\n",
              "            <td>None</td>\n",
              "        </tr>\n",
              "        <tr>\n",
              "            <td>4</td>\n",
              "            <td>Jay</td>\n",
              "            <td>Rao</td>\n",
              "            <td>jay@example.com</td>\n",
              "            <td>1999-09-16</td>\n",
              "            <td>None</td>\n",
              "        </tr>\n",
              "    </tbody>\n",
              "</table>"
            ]
          },
          "metadata": {},
          "execution_count": 13
        }
      ]
    },
    {
      "cell_type": "markdown",
      "source": [
        "Problem 2: Update the PhoneNumber Column\n",
        "\n",
        "Now that you have added the PhoneNumber column, update the phone numbers for some customers using the following format: '(123) 456-7890'.\n"
      ],
      "metadata": {
        "id": "jaULyU5od2mp"
      }
    },
    {
      "cell_type": "markdown",
      "source": [
        "**1.    Write a SQL query to update the phone number of customers with CustomerID 1 and 2**"
      ],
      "metadata": {
        "id": "-mGfkURgd-w9"
      }
    },
    {
      "cell_type": "code",
      "source": [
        "%%sql\n",
        "UPDATE customers\n",
        "SET phonenumber = '1234567890'\n",
        "WHERE customerid in(1,2);"
      ],
      "metadata": {
        "colab": {
          "base_uri": "https://localhost:8080/"
        },
        "id": "Nw2EZdkBdzXd",
        "outputId": "c6f6319d-fce3-40f8-992c-3844d0f11beb"
      },
      "execution_count": 14,
      "outputs": [
        {
          "output_type": "stream",
          "name": "stdout",
          "text": [
            " * sqlite://\n",
            "2 rows affected.\n"
          ]
        },
        {
          "output_type": "execute_result",
          "data": {
            "text/plain": [
              "[]"
            ]
          },
          "metadata": {},
          "execution_count": 14
        }
      ]
    },
    {
      "cell_type": "code",
      "source": [
        "%%sql\n",
        "select * from Customers;"
      ],
      "metadata": {
        "colab": {
          "base_uri": "https://localhost:8080/",
          "height": 161
        },
        "id": "9sPokWbGeDKn",
        "outputId": "ed51edbe-1c5c-4091-c99d-02c906d77c64"
      },
      "execution_count": 15,
      "outputs": [
        {
          "output_type": "stream",
          "name": "stdout",
          "text": [
            " * sqlite://\n",
            "Done.\n"
          ]
        },
        {
          "output_type": "execute_result",
          "data": {
            "text/plain": [
              "[(1, 'John', 'Doe', 'johndoe22@example.com', '1990-01-01', '1234567890'),\n",
              " (2, 'Johny', 'Dooe', 'jon23@example.com', '1890-01-01', '1234567890'),\n",
              " (3, 'Janardan', 'vaid', 'joe90@example.com', '1994-05-10', None),\n",
              " (4, 'Jay', 'Rao', 'jay@example.com', '1999-09-16', None)]"
            ],
            "text/html": [
              "<table>\n",
              "    <thead>\n",
              "        <tr>\n",
              "            <th>CustomerID</th>\n",
              "            <th>FirstName</th>\n",
              "            <th>LastName</th>\n",
              "            <th>Email</th>\n",
              "            <th>BirthDate</th>\n",
              "            <th>PhoneNumber</th>\n",
              "        </tr>\n",
              "    </thead>\n",
              "    <tbody>\n",
              "        <tr>\n",
              "            <td>1</td>\n",
              "            <td>John</td>\n",
              "            <td>Doe</td>\n",
              "            <td>johndoe22@example.com</td>\n",
              "            <td>1990-01-01</td>\n",
              "            <td>1234567890</td>\n",
              "        </tr>\n",
              "        <tr>\n",
              "            <td>2</td>\n",
              "            <td>Johny</td>\n",
              "            <td>Dooe</td>\n",
              "            <td>jon23@example.com</td>\n",
              "            <td>1890-01-01</td>\n",
              "            <td>1234567890</td>\n",
              "        </tr>\n",
              "        <tr>\n",
              "            <td>3</td>\n",
              "            <td>Janardan</td>\n",
              "            <td>vaid</td>\n",
              "            <td>joe90@example.com</td>\n",
              "            <td>1994-05-10</td>\n",
              "            <td>None</td>\n",
              "        </tr>\n",
              "        <tr>\n",
              "            <td>4</td>\n",
              "            <td>Jay</td>\n",
              "            <td>Rao</td>\n",
              "            <td>jay@example.com</td>\n",
              "            <td>1999-09-16</td>\n",
              "            <td>None</td>\n",
              "        </tr>\n",
              "    </tbody>\n",
              "</table>"
            ]
          },
          "metadata": {},
          "execution_count": 15
        }
      ]
    },
    {
      "cell_type": "markdown",
      "source": [
        "Problem 3: Use CASE for Conditional Queries\n",
        "\n",
        "Some customers have incomplete email addresses. You need to generate a list that flags these incomplete records.\n",
        "\n",
        "1.    Write a SQL query that returns CustomerID, FirstName, LastName, and a new column EmailStatus. If the email contains @, the EmailStatus should show 'Valid', otherwise it should show 'Invalid'.\n",
        "\n",
        "\n",
        "\n",
        "Before executing this command I am inserting few rows && CREATING A NEW COLUMN {EmailStatus} to check the constraint provided by Varun"
      ],
      "metadata": {
        "id": "E5cxNLHLeI7X"
      }
    },
    {
      "cell_type": "code",
      "source": [
        "%%sql\n",
        "\n",
        "ALTER TABLE Customers\n",
        "Add EmailStatus VARCHAR(20) ;"
      ],
      "metadata": {
        "colab": {
          "base_uri": "https://localhost:8080/"
        },
        "id": "4QgshlgPeLle",
        "outputId": "736cb796-5225-436c-e076-bb732049bf91"
      },
      "execution_count": 16,
      "outputs": [
        {
          "output_type": "stream",
          "name": "stdout",
          "text": [
            " * sqlite://\n",
            "Done.\n"
          ]
        },
        {
          "output_type": "execute_result",
          "data": {
            "text/plain": [
              "[]"
            ]
          },
          "metadata": {},
          "execution_count": 16
        }
      ]
    },
    {
      "cell_type": "code",
      "source": [
        "%%sql\n",
        "select * from Customers;"
      ],
      "metadata": {
        "colab": {
          "base_uri": "https://localhost:8080/",
          "height": 161
        },
        "id": "MiTNfF7deObW",
        "outputId": "b4e31430-be4a-404f-f27e-bd570be41d58"
      },
      "execution_count": 17,
      "outputs": [
        {
          "output_type": "stream",
          "name": "stdout",
          "text": [
            " * sqlite://\n",
            "Done.\n"
          ]
        },
        {
          "output_type": "execute_result",
          "data": {
            "text/plain": [
              "[(1, 'John', 'Doe', 'johndoe22@example.com', '1990-01-01', '1234567890', None),\n",
              " (2, 'Johny', 'Dooe', 'jon23@example.com', '1890-01-01', '1234567890', None),\n",
              " (3, 'Janardan', 'vaid', 'joe90@example.com', '1994-05-10', None, None),\n",
              " (4, 'Jay', 'Rao', 'jay@example.com', '1999-09-16', None, None)]"
            ],
            "text/html": [
              "<table>\n",
              "    <thead>\n",
              "        <tr>\n",
              "            <th>CustomerID</th>\n",
              "            <th>FirstName</th>\n",
              "            <th>LastName</th>\n",
              "            <th>Email</th>\n",
              "            <th>BirthDate</th>\n",
              "            <th>PhoneNumber</th>\n",
              "            <th>EmailStatus</th>\n",
              "        </tr>\n",
              "    </thead>\n",
              "    <tbody>\n",
              "        <tr>\n",
              "            <td>1</td>\n",
              "            <td>John</td>\n",
              "            <td>Doe</td>\n",
              "            <td>johndoe22@example.com</td>\n",
              "            <td>1990-01-01</td>\n",
              "            <td>1234567890</td>\n",
              "            <td>None</td>\n",
              "        </tr>\n",
              "        <tr>\n",
              "            <td>2</td>\n",
              "            <td>Johny</td>\n",
              "            <td>Dooe</td>\n",
              "            <td>jon23@example.com</td>\n",
              "            <td>1890-01-01</td>\n",
              "            <td>1234567890</td>\n",
              "            <td>None</td>\n",
              "        </tr>\n",
              "        <tr>\n",
              "            <td>3</td>\n",
              "            <td>Janardan</td>\n",
              "            <td>vaid</td>\n",
              "            <td>joe90@example.com</td>\n",
              "            <td>1994-05-10</td>\n",
              "            <td>None</td>\n",
              "            <td>None</td>\n",
              "        </tr>\n",
              "        <tr>\n",
              "            <td>4</td>\n",
              "            <td>Jay</td>\n",
              "            <td>Rao</td>\n",
              "            <td>jay@example.com</td>\n",
              "            <td>1999-09-16</td>\n",
              "            <td>None</td>\n",
              "            <td>None</td>\n",
              "        </tr>\n",
              "    </tbody>\n",
              "</table>"
            ]
          },
          "metadata": {},
          "execution_count": 17
        }
      ]
    },
    {
      "cell_type": "code",
      "source": [
        "%%sql\n",
        "INSERT INTO Customers (CustomerID, FirstName, LastName, Email, BirthDate)\n",
        "\n",
        "VALUES (5, 'John', 'Lou', 'johndoe22_example.com', '1990-01-01'),\n",
        "\n",
        "(6, 'Jim', 'Seth', 'example.com', '1998-01-11');"
      ],
      "metadata": {
        "colab": {
          "base_uri": "https://localhost:8080/"
        },
        "id": "Fm5KbCs8ecRh",
        "outputId": "eed4f588-901f-4653-fdde-6468ffcb3522"
      },
      "execution_count": 18,
      "outputs": [
        {
          "output_type": "stream",
          "name": "stdout",
          "text": [
            " * sqlite://\n",
            "2 rows affected.\n"
          ]
        },
        {
          "output_type": "execute_result",
          "data": {
            "text/plain": [
              "[]"
            ]
          },
          "metadata": {},
          "execution_count": 18
        }
      ]
    },
    {
      "cell_type": "code",
      "source": [
        "%%sql\n",
        "\n",
        "select * from Customers;"
      ],
      "metadata": {
        "colab": {
          "base_uri": "https://localhost:8080/",
          "height": 203
        },
        "id": "NO8E9SXwetsM",
        "outputId": "abd47147-7842-412e-be1a-a0dadbd16afe"
      },
      "execution_count": 19,
      "outputs": [
        {
          "output_type": "stream",
          "name": "stdout",
          "text": [
            " * sqlite://\n",
            "Done.\n"
          ]
        },
        {
          "output_type": "execute_result",
          "data": {
            "text/plain": [
              "[(1, 'John', 'Doe', 'johndoe22@example.com', '1990-01-01', '1234567890', None),\n",
              " (2, 'Johny', 'Dooe', 'jon23@example.com', '1890-01-01', '1234567890', None),\n",
              " (3, 'Janardan', 'vaid', 'joe90@example.com', '1994-05-10', None, None),\n",
              " (4, 'Jay', 'Rao', 'jay@example.com', '1999-09-16', None, None),\n",
              " (5, 'John', 'Lou', 'johndoe22_example.com', '1990-01-01', None, None),\n",
              " (6, 'Jim', 'Seth', 'example.com', '1998-01-11', None, None)]"
            ],
            "text/html": [
              "<table>\n",
              "    <thead>\n",
              "        <tr>\n",
              "            <th>CustomerID</th>\n",
              "            <th>FirstName</th>\n",
              "            <th>LastName</th>\n",
              "            <th>Email</th>\n",
              "            <th>BirthDate</th>\n",
              "            <th>PhoneNumber</th>\n",
              "            <th>EmailStatus</th>\n",
              "        </tr>\n",
              "    </thead>\n",
              "    <tbody>\n",
              "        <tr>\n",
              "            <td>1</td>\n",
              "            <td>John</td>\n",
              "            <td>Doe</td>\n",
              "            <td>johndoe22@example.com</td>\n",
              "            <td>1990-01-01</td>\n",
              "            <td>1234567890</td>\n",
              "            <td>None</td>\n",
              "        </tr>\n",
              "        <tr>\n",
              "            <td>2</td>\n",
              "            <td>Johny</td>\n",
              "            <td>Dooe</td>\n",
              "            <td>jon23@example.com</td>\n",
              "            <td>1890-01-01</td>\n",
              "            <td>1234567890</td>\n",
              "            <td>None</td>\n",
              "        </tr>\n",
              "        <tr>\n",
              "            <td>3</td>\n",
              "            <td>Janardan</td>\n",
              "            <td>vaid</td>\n",
              "            <td>joe90@example.com</td>\n",
              "            <td>1994-05-10</td>\n",
              "            <td>None</td>\n",
              "            <td>None</td>\n",
              "        </tr>\n",
              "        <tr>\n",
              "            <td>4</td>\n",
              "            <td>Jay</td>\n",
              "            <td>Rao</td>\n",
              "            <td>jay@example.com</td>\n",
              "            <td>1999-09-16</td>\n",
              "            <td>None</td>\n",
              "            <td>None</td>\n",
              "        </tr>\n",
              "        <tr>\n",
              "            <td>5</td>\n",
              "            <td>John</td>\n",
              "            <td>Lou</td>\n",
              "            <td>johndoe22_example.com</td>\n",
              "            <td>1990-01-01</td>\n",
              "            <td>None</td>\n",
              "            <td>None</td>\n",
              "        </tr>\n",
              "        <tr>\n",
              "            <td>6</td>\n",
              "            <td>Jim</td>\n",
              "            <td>Seth</td>\n",
              "            <td>example.com</td>\n",
              "            <td>1998-01-11</td>\n",
              "            <td>None</td>\n",
              "            <td>None</td>\n",
              "        </tr>\n",
              "    </tbody>\n",
              "</table>"
            ]
          },
          "metadata": {},
          "execution_count": 19
        }
      ]
    },
    {
      "cell_type": "code",
      "source": [
        "%%sql\n",
        "\n",
        "select CustomerID,\n",
        "    FirstName,\n",
        "    LastName,\n",
        "    CASE\n",
        "        WHEN Email LIKE '%@%' THEN 'Valid'\n",
        "        ELSE 'Invalid'\n",
        "    END AS EmailStatus\n",
        "FROM Customers;"
      ],
      "metadata": {
        "colab": {
          "base_uri": "https://localhost:8080/",
          "height": 203
        },
        "id": "E5KeZnIQex6D",
        "outputId": "19ae9d74-9456-4c52-d213-c2a0129c8fc1"
      },
      "execution_count": 20,
      "outputs": [
        {
          "output_type": "stream",
          "name": "stdout",
          "text": [
            " * sqlite://\n",
            "Done.\n"
          ]
        },
        {
          "output_type": "execute_result",
          "data": {
            "text/plain": [
              "[(1, 'John', 'Doe', 'Valid'),\n",
              " (2, 'Johny', 'Dooe', 'Valid'),\n",
              " (3, 'Janardan', 'vaid', 'Valid'),\n",
              " (4, 'Jay', 'Rao', 'Valid'),\n",
              " (5, 'John', 'Lou', 'Invalid'),\n",
              " (6, 'Jim', 'Seth', 'Invalid')]"
            ],
            "text/html": [
              "<table>\n",
              "    <thead>\n",
              "        <tr>\n",
              "            <th>CustomerID</th>\n",
              "            <th>FirstName</th>\n",
              "            <th>LastName</th>\n",
              "            <th>EmailStatus</th>\n",
              "        </tr>\n",
              "    </thead>\n",
              "    <tbody>\n",
              "        <tr>\n",
              "            <td>1</td>\n",
              "            <td>John</td>\n",
              "            <td>Doe</td>\n",
              "            <td>Valid</td>\n",
              "        </tr>\n",
              "        <tr>\n",
              "            <td>2</td>\n",
              "            <td>Johny</td>\n",
              "            <td>Dooe</td>\n",
              "            <td>Valid</td>\n",
              "        </tr>\n",
              "        <tr>\n",
              "            <td>3</td>\n",
              "            <td>Janardan</td>\n",
              "            <td>vaid</td>\n",
              "            <td>Valid</td>\n",
              "        </tr>\n",
              "        <tr>\n",
              "            <td>4</td>\n",
              "            <td>Jay</td>\n",
              "            <td>Rao</td>\n",
              "            <td>Valid</td>\n",
              "        </tr>\n",
              "        <tr>\n",
              "            <td>5</td>\n",
              "            <td>John</td>\n",
              "            <td>Lou</td>\n",
              "            <td>Invalid</td>\n",
              "        </tr>\n",
              "        <tr>\n",
              "            <td>6</td>\n",
              "            <td>Jim</td>\n",
              "            <td>Seth</td>\n",
              "            <td>Invalid</td>\n",
              "        </tr>\n",
              "    </tbody>\n",
              "</table>"
            ]
          },
          "metadata": {},
          "execution_count": 20
        }
      ]
    },
    {
      "cell_type": "markdown",
      "source": [
        "Problem 4: Group By and Aggregate Data\n",
        "\n",
        "You want to understand the distribution of customers by birth year.\n",
        "\n",
        "    1.    Write a SQL query that groups customers by their birth year and counts the number of customers born in each year."
      ],
      "metadata": {
        "id": "I4wC6KlmgmZT"
      }
    },
    {
      "cell_type": "code",
      "source": [
        "%%sql\n",
        "\n",
        "select *,count(CustomerID) from customers\n",
        "GROUP BY BirthDate\n",
        "ORDER BY COUNT(CustomerID) DESC;\n",
        "\n"
      ],
      "metadata": {
        "colab": {
          "base_uri": "https://localhost:8080/",
          "height": 182
        },
        "id": "JQdoMDpygtYT",
        "outputId": "76dab5cc-27b1-4b1f-dc1c-86604d8c519c"
      },
      "execution_count": 23,
      "outputs": [
        {
          "output_type": "stream",
          "name": "stdout",
          "text": [
            " * sqlite://\n",
            "Done.\n"
          ]
        },
        {
          "output_type": "execute_result",
          "data": {
            "text/plain": [
              "[(1, 'John', 'Doe', 'johndoe22@example.com', '1990-01-01', '1234567890', None, 2),\n",
              " (4, 'Jay', 'Rao', 'jay@example.com', '1999-09-16', None, None, 1),\n",
              " (6, 'Jim', 'Seth', 'example.com', '1998-01-11', None, None, 1),\n",
              " (3, 'Janardan', 'vaid', 'joe90@example.com', '1994-05-10', None, None, 1),\n",
              " (2, 'Johny', 'Dooe', 'jon23@example.com', '1890-01-01', '1234567890', None, 1)]"
            ],
            "text/html": [
              "<table>\n",
              "    <thead>\n",
              "        <tr>\n",
              "            <th>CustomerID</th>\n",
              "            <th>FirstName</th>\n",
              "            <th>LastName</th>\n",
              "            <th>Email</th>\n",
              "            <th>BirthDate</th>\n",
              "            <th>PhoneNumber</th>\n",
              "            <th>EmailStatus</th>\n",
              "            <th>count(CustomerID)</th>\n",
              "        </tr>\n",
              "    </thead>\n",
              "    <tbody>\n",
              "        <tr>\n",
              "            <td>1</td>\n",
              "            <td>John</td>\n",
              "            <td>Doe</td>\n",
              "            <td>johndoe22@example.com</td>\n",
              "            <td>1990-01-01</td>\n",
              "            <td>1234567890</td>\n",
              "            <td>None</td>\n",
              "            <td>2</td>\n",
              "        </tr>\n",
              "        <tr>\n",
              "            <td>4</td>\n",
              "            <td>Jay</td>\n",
              "            <td>Rao</td>\n",
              "            <td>jay@example.com</td>\n",
              "            <td>1999-09-16</td>\n",
              "            <td>None</td>\n",
              "            <td>None</td>\n",
              "            <td>1</td>\n",
              "        </tr>\n",
              "        <tr>\n",
              "            <td>6</td>\n",
              "            <td>Jim</td>\n",
              "            <td>Seth</td>\n",
              "            <td>example.com</td>\n",
              "            <td>1998-01-11</td>\n",
              "            <td>None</td>\n",
              "            <td>None</td>\n",
              "            <td>1</td>\n",
              "        </tr>\n",
              "        <tr>\n",
              "            <td>3</td>\n",
              "            <td>Janardan</td>\n",
              "            <td>vaid</td>\n",
              "            <td>joe90@example.com</td>\n",
              "            <td>1994-05-10</td>\n",
              "            <td>None</td>\n",
              "            <td>None</td>\n",
              "            <td>1</td>\n",
              "        </tr>\n",
              "        <tr>\n",
              "            <td>2</td>\n",
              "            <td>Johny</td>\n",
              "            <td>Dooe</td>\n",
              "            <td>jon23@example.com</td>\n",
              "            <td>1890-01-01</td>\n",
              "            <td>1234567890</td>\n",
              "            <td>None</td>\n",
              "            <td>1</td>\n",
              "        </tr>\n",
              "    </tbody>\n",
              "</table>"
            ]
          },
          "metadata": {},
          "execution_count": 23
        }
      ]
    },
    {
      "cell_type": "code",
      "source": [
        "%%sql\n",
        "\n",
        "select * from customers;"
      ],
      "metadata": {
        "colab": {
          "base_uri": "https://localhost:8080/",
          "height": 203
        },
        "id": "4kI9Q1QniYF3",
        "outputId": "6320054f-8f79-4f89-f621-eeaad23c4433"
      },
      "execution_count": 25,
      "outputs": [
        {
          "output_type": "stream",
          "name": "stdout",
          "text": [
            " * sqlite://\n",
            "Done.\n"
          ]
        },
        {
          "output_type": "execute_result",
          "data": {
            "text/plain": [
              "[(1, 'John', 'Doe', 'johndoe22@example.com', '1990-01-01', '1234567890', None),\n",
              " (2, 'Johny', 'Dooe', 'jon23@example.com', '1890-01-01', '1234567890', None),\n",
              " (3, 'Janardan', 'vaid', 'joe90@example.com', '1994-05-10', None, None),\n",
              " (4, 'Jay', 'Rao', 'jay@example.com', '1999-09-16', None, None),\n",
              " (5, 'John', 'Lou', 'johndoe22_example.com', '1990-01-01', None, None),\n",
              " (6, 'Jim', 'Seth', 'example.com', '1998-01-11', None, None)]"
            ],
            "text/html": [
              "<table>\n",
              "    <thead>\n",
              "        <tr>\n",
              "            <th>CustomerID</th>\n",
              "            <th>FirstName</th>\n",
              "            <th>LastName</th>\n",
              "            <th>Email</th>\n",
              "            <th>BirthDate</th>\n",
              "            <th>PhoneNumber</th>\n",
              "            <th>EmailStatus</th>\n",
              "        </tr>\n",
              "    </thead>\n",
              "    <tbody>\n",
              "        <tr>\n",
              "            <td>1</td>\n",
              "            <td>John</td>\n",
              "            <td>Doe</td>\n",
              "            <td>johndoe22@example.com</td>\n",
              "            <td>1990-01-01</td>\n",
              "            <td>1234567890</td>\n",
              "            <td>None</td>\n",
              "        </tr>\n",
              "        <tr>\n",
              "            <td>2</td>\n",
              "            <td>Johny</td>\n",
              "            <td>Dooe</td>\n",
              "            <td>jon23@example.com</td>\n",
              "            <td>1890-01-01</td>\n",
              "            <td>1234567890</td>\n",
              "            <td>None</td>\n",
              "        </tr>\n",
              "        <tr>\n",
              "            <td>3</td>\n",
              "            <td>Janardan</td>\n",
              "            <td>vaid</td>\n",
              "            <td>joe90@example.com</td>\n",
              "            <td>1994-05-10</td>\n",
              "            <td>None</td>\n",
              "            <td>None</td>\n",
              "        </tr>\n",
              "        <tr>\n",
              "            <td>4</td>\n",
              "            <td>Jay</td>\n",
              "            <td>Rao</td>\n",
              "            <td>jay@example.com</td>\n",
              "            <td>1999-09-16</td>\n",
              "            <td>None</td>\n",
              "            <td>None</td>\n",
              "        </tr>\n",
              "        <tr>\n",
              "            <td>5</td>\n",
              "            <td>John</td>\n",
              "            <td>Lou</td>\n",
              "            <td>johndoe22_example.com</td>\n",
              "            <td>1990-01-01</td>\n",
              "            <td>None</td>\n",
              "            <td>None</td>\n",
              "        </tr>\n",
              "        <tr>\n",
              "            <td>6</td>\n",
              "            <td>Jim</td>\n",
              "            <td>Seth</td>\n",
              "            <td>example.com</td>\n",
              "            <td>1998-01-11</td>\n",
              "            <td>None</td>\n",
              "            <td>None</td>\n",
              "        </tr>\n",
              "    </tbody>\n",
              "</table>"
            ]
          },
          "metadata": {},
          "execution_count": 25
        }
      ]
    },
    {
      "cell_type": "code",
      "source": [
        "%%sql\n",
        "\n",
        "select strftime('%Y', BirthDate) AS BirthYear, COUNT(*) AS CustomerCount\n",
        "FROM Customers\n",
        "GROUP BY BirthYear\n",
        "ORDER BY BirthYear DESC;"
      ],
      "metadata": {
        "colab": {
          "base_uri": "https://localhost:8080/",
          "height": 182
        },
        "id": "7GVplwIPiByk",
        "outputId": "63775fc5-3979-42de-8ce9-83789ce56dd6"
      },
      "execution_count": 24,
      "outputs": [
        {
          "output_type": "stream",
          "name": "stdout",
          "text": [
            " * sqlite://\n",
            "Done.\n"
          ]
        },
        {
          "output_type": "execute_result",
          "data": {
            "text/plain": [
              "[('1999', 1), ('1998', 1), ('1994', 1), ('1990', 2), ('1890', 1)]"
            ],
            "text/html": [
              "<table>\n",
              "    <thead>\n",
              "        <tr>\n",
              "            <th>BirthYear</th>\n",
              "            <th>CustomerCount</th>\n",
              "        </tr>\n",
              "    </thead>\n",
              "    <tbody>\n",
              "        <tr>\n",
              "            <td>1999</td>\n",
              "            <td>1</td>\n",
              "        </tr>\n",
              "        <tr>\n",
              "            <td>1998</td>\n",
              "            <td>1</td>\n",
              "        </tr>\n",
              "        <tr>\n",
              "            <td>1994</td>\n",
              "            <td>1</td>\n",
              "        </tr>\n",
              "        <tr>\n",
              "            <td>1990</td>\n",
              "            <td>2</td>\n",
              "        </tr>\n",
              "        <tr>\n",
              "            <td>1890</td>\n",
              "            <td>1</td>\n",
              "        </tr>\n",
              "    </tbody>\n",
              "</table>"
            ]
          },
          "metadata": {},
          "execution_count": 24
        }
      ]
    },
    {
      "cell_type": "markdown",
      "source": [
        "**2.    Ensure that the result includes only customers born after 1980. **"
      ],
      "metadata": {
        "id": "S2M3S4ZWinEn"
      }
    },
    {
      "cell_type": "code",
      "source": [
        "%%sql\n",
        "\n",
        "select strftime('%Y', BirthDate) AS BirthYear, COUNT(*) AS CustomerCount\n",
        "FROM Customers\n",
        "where BirthDate > '1980-12-31'\n",
        "GROUP BY BirthYear\n",
        "ORDER BY BirthYear DESC;"
      ],
      "metadata": {
        "colab": {
          "base_uri": "https://localhost:8080/",
          "height": 161
        },
        "id": "ad-CO7HAisXB",
        "outputId": "6f9c39cb-9f1a-44da-f185-4a6d009fe7a0"
      },
      "execution_count": 27,
      "outputs": [
        {
          "output_type": "stream",
          "name": "stdout",
          "text": [
            " * sqlite://\n",
            "Done.\n"
          ]
        },
        {
          "output_type": "execute_result",
          "data": {
            "text/plain": [
              "[('1999', 1), ('1998', 1), ('1994', 1), ('1990', 2)]"
            ],
            "text/html": [
              "<table>\n",
              "    <thead>\n",
              "        <tr>\n",
              "            <th>BirthYear</th>\n",
              "            <th>CustomerCount</th>\n",
              "        </tr>\n",
              "    </thead>\n",
              "    <tbody>\n",
              "        <tr>\n",
              "            <td>1999</td>\n",
              "            <td>1</td>\n",
              "        </tr>\n",
              "        <tr>\n",
              "            <td>1998</td>\n",
              "            <td>1</td>\n",
              "        </tr>\n",
              "        <tr>\n",
              "            <td>1994</td>\n",
              "            <td>1</td>\n",
              "        </tr>\n",
              "        <tr>\n",
              "            <td>1990</td>\n",
              "            <td>2</td>\n",
              "        </tr>\n",
              "    </tbody>\n",
              "</table>"
            ]
          },
          "metadata": {},
          "execution_count": 27
        }
      ]
    },
    {
      "cell_type": "markdown",
      "source": [
        "Problem 5: Use HAVING to Filter Aggregated Results\n",
        "\n",
        "You are only interested in years where more than 1 customer was born.\n",
        "\n",
        "    1.    Modify the query from Problem 4 to include only years where the number of customers is greater than 1."
      ],
      "metadata": {
        "id": "MCPlrboXjTap"
      }
    },
    {
      "cell_type": "code",
      "source": [
        "%%sql\n",
        "\n",
        "select strftime('%Y', BirthDate) AS BirthYear, COUNT(*) AS CustomerCount\n",
        "FROM Customers\n",
        "GROUP BY BirthYear\n",
        "having Count(*)>1\n",
        "ORDER BY BirthYear DESC;"
      ],
      "metadata": {
        "colab": {
          "base_uri": "https://localhost:8080/",
          "height": 96
        },
        "id": "_HDUF2-OjYED",
        "outputId": "957845be-3f4d-4183-d600-da41a716b3a0"
      },
      "execution_count": 29,
      "outputs": [
        {
          "output_type": "stream",
          "name": "stdout",
          "text": [
            " * sqlite://\n",
            "Done.\n"
          ]
        },
        {
          "output_type": "execute_result",
          "data": {
            "text/plain": [
              "[('1990', 2)]"
            ],
            "text/html": [
              "<table>\n",
              "    <thead>\n",
              "        <tr>\n",
              "            <th>BirthYear</th>\n",
              "            <th>CustomerCount</th>\n",
              "        </tr>\n",
              "    </thead>\n",
              "    <tbody>\n",
              "        <tr>\n",
              "            <td>1990</td>\n",
              "            <td>2</td>\n",
              "        </tr>\n",
              "    </tbody>\n",
              "</table>"
            ]
          },
          "metadata": {},
          "execution_count": 29
        }
      ]
    },
    {
      "cell_type": "markdown",
      "source": [
        "Problem 6: Search with LIKE\n",
        "\n",
        "You want to find all customers whose first or last name starts with 'A'.\n",
        "\n",
        "    1.    Write a SQL query to return CustomerID, FirstName, and LastName for all customers where the FirstName or LastName begins with the letter 'A'.\n"
      ],
      "metadata": {
        "id": "RjO2Gq2Mj_kW"
      }
    },
    {
      "cell_type": "code",
      "source": [
        "%%sql\n",
        "\n",
        "select CustomerID, FirstName, LastName\n",
        "FROM Customers\n",
        "WHERE FirstName LIKE '%a%' OR LastName LIKE '%a%';"
      ],
      "metadata": {
        "colab": {
          "base_uri": "https://localhost:8080/",
          "height": 118
        },
        "id": "F3hPnpRCkAqn",
        "outputId": "61cbe920-3d2b-4a33-8397-bd0b8cdd1673"
      },
      "execution_count": 32,
      "outputs": [
        {
          "output_type": "stream",
          "name": "stdout",
          "text": [
            " * sqlite://\n",
            "Done.\n"
          ]
        },
        {
          "output_type": "execute_result",
          "data": {
            "text/plain": [
              "[(3, 'Janardan', 'vaid'), (4, 'Jay', 'Rao')]"
            ],
            "text/html": [
              "<table>\n",
              "    <thead>\n",
              "        <tr>\n",
              "            <th>CustomerID</th>\n",
              "            <th>FirstName</th>\n",
              "            <th>LastName</th>\n",
              "        </tr>\n",
              "    </thead>\n",
              "    <tbody>\n",
              "        <tr>\n",
              "            <td>3</td>\n",
              "            <td>Janardan</td>\n",
              "            <td>vaid</td>\n",
              "        </tr>\n",
              "        <tr>\n",
              "            <td>4</td>\n",
              "            <td>Jay</td>\n",
              "            <td>Rao</td>\n",
              "        </tr>\n",
              "    </tbody>\n",
              "</table>"
            ]
          },
          "metadata": {},
          "execution_count": 32
        }
      ]
    },
    {
      "cell_type": "code",
      "source": [
        "%%sql\n",
        "INSERT INTO Customers (CustomerID, FirstName, LastName, Email, BirthDate)\n",
        "\n",
        "VALUES (7, 'Anish', 'Upadhyay', 'au@example.com', '1990-01-01'),\n",
        "(8, 'Andrew', 'alaine', 'al@example.com', '1890-01-01');\n",
        "\n",
        "\n",
        "select * from Customers;"
      ],
      "metadata": {
        "colab": {
          "base_uri": "https://localhost:8080/",
          "height": 263
        },
        "id": "I0R5XOsLkfAA",
        "outputId": "07f7a3af-09f6-4e7d-a050-aecfa71fabb4"
      },
      "execution_count": 33,
      "outputs": [
        {
          "output_type": "stream",
          "name": "stdout",
          "text": [
            " * sqlite://\n",
            "2 rows affected.\n",
            "Done.\n"
          ]
        },
        {
          "output_type": "execute_result",
          "data": {
            "text/plain": [
              "[(1, 'John', 'Doe', 'johndoe22@example.com', '1990-01-01', '1234567890', None),\n",
              " (2, 'Johny', 'Dooe', 'jon23@example.com', '1890-01-01', '1234567890', None),\n",
              " (3, 'Janardan', 'vaid', 'joe90@example.com', '1994-05-10', None, None),\n",
              " (4, 'Jay', 'Rao', 'jay@example.com', '1999-09-16', None, None),\n",
              " (5, 'John', 'Lou', 'johndoe22_example.com', '1990-01-01', None, None),\n",
              " (6, 'Jim', 'Seth', 'example.com', '1998-01-11', None, None),\n",
              " (7, 'Anish', 'Upadhyay', 'au@example.com', '1990-01-01', None, None),\n",
              " (8, 'Andrew', 'alaine', 'al@example.com', '1890-01-01', None, None)]"
            ],
            "text/html": [
              "<table>\n",
              "    <thead>\n",
              "        <tr>\n",
              "            <th>CustomerID</th>\n",
              "            <th>FirstName</th>\n",
              "            <th>LastName</th>\n",
              "            <th>Email</th>\n",
              "            <th>BirthDate</th>\n",
              "            <th>PhoneNumber</th>\n",
              "            <th>EmailStatus</th>\n",
              "        </tr>\n",
              "    </thead>\n",
              "    <tbody>\n",
              "        <tr>\n",
              "            <td>1</td>\n",
              "            <td>John</td>\n",
              "            <td>Doe</td>\n",
              "            <td>johndoe22@example.com</td>\n",
              "            <td>1990-01-01</td>\n",
              "            <td>1234567890</td>\n",
              "            <td>None</td>\n",
              "        </tr>\n",
              "        <tr>\n",
              "            <td>2</td>\n",
              "            <td>Johny</td>\n",
              "            <td>Dooe</td>\n",
              "            <td>jon23@example.com</td>\n",
              "            <td>1890-01-01</td>\n",
              "            <td>1234567890</td>\n",
              "            <td>None</td>\n",
              "        </tr>\n",
              "        <tr>\n",
              "            <td>3</td>\n",
              "            <td>Janardan</td>\n",
              "            <td>vaid</td>\n",
              "            <td>joe90@example.com</td>\n",
              "            <td>1994-05-10</td>\n",
              "            <td>None</td>\n",
              "            <td>None</td>\n",
              "        </tr>\n",
              "        <tr>\n",
              "            <td>4</td>\n",
              "            <td>Jay</td>\n",
              "            <td>Rao</td>\n",
              "            <td>jay@example.com</td>\n",
              "            <td>1999-09-16</td>\n",
              "            <td>None</td>\n",
              "            <td>None</td>\n",
              "        </tr>\n",
              "        <tr>\n",
              "            <td>5</td>\n",
              "            <td>John</td>\n",
              "            <td>Lou</td>\n",
              "            <td>johndoe22_example.com</td>\n",
              "            <td>1990-01-01</td>\n",
              "            <td>None</td>\n",
              "            <td>None</td>\n",
              "        </tr>\n",
              "        <tr>\n",
              "            <td>6</td>\n",
              "            <td>Jim</td>\n",
              "            <td>Seth</td>\n",
              "            <td>example.com</td>\n",
              "            <td>1998-01-11</td>\n",
              "            <td>None</td>\n",
              "            <td>None</td>\n",
              "        </tr>\n",
              "        <tr>\n",
              "            <td>7</td>\n",
              "            <td>Anish</td>\n",
              "            <td>Upadhyay</td>\n",
              "            <td>au@example.com</td>\n",
              "            <td>1990-01-01</td>\n",
              "            <td>None</td>\n",
              "            <td>None</td>\n",
              "        </tr>\n",
              "        <tr>\n",
              "            <td>8</td>\n",
              "            <td>Andrew</td>\n",
              "            <td>alaine</td>\n",
              "            <td>al@example.com</td>\n",
              "            <td>1890-01-01</td>\n",
              "            <td>None</td>\n",
              "            <td>None</td>\n",
              "        </tr>\n",
              "    </tbody>\n",
              "</table>"
            ]
          },
          "metadata": {},
          "execution_count": 33
        }
      ]
    },
    {
      "cell_type": "code",
      "source": [
        "%%sql\n",
        "\n",
        "select CustomerID, FirstName, LastName\n",
        "FROM Customers\n",
        "WHERE FirstName LIKE 'A%' OR LastName LIKE 'a%';"
      ],
      "metadata": {
        "colab": {
          "base_uri": "https://localhost:8080/",
          "height": 118
        },
        "id": "awd8NIbOk1Bz",
        "outputId": "471cccc0-2967-4ce2-ea58-cd23be1e8a0d"
      },
      "execution_count": 34,
      "outputs": [
        {
          "output_type": "stream",
          "name": "stdout",
          "text": [
            " * sqlite://\n",
            "Done.\n"
          ]
        },
        {
          "output_type": "execute_result",
          "data": {
            "text/plain": [
              "[(7, 'Anish', 'Upadhyay'), (8, 'Andrew', 'alaine')]"
            ],
            "text/html": [
              "<table>\n",
              "    <thead>\n",
              "        <tr>\n",
              "            <th>CustomerID</th>\n",
              "            <th>FirstName</th>\n",
              "            <th>LastName</th>\n",
              "        </tr>\n",
              "    </thead>\n",
              "    <tbody>\n",
              "        <tr>\n",
              "            <td>7</td>\n",
              "            <td>Anish</td>\n",
              "            <td>Upadhyay</td>\n",
              "        </tr>\n",
              "        <tr>\n",
              "            <td>8</td>\n",
              "            <td>Andrew</td>\n",
              "            <td>alaine</td>\n",
              "        </tr>\n",
              "    </tbody>\n",
              "</table>"
            ]
          },
          "metadata": {},
          "execution_count": 34
        }
      ]
    },
    {
      "cell_type": "code",
      "source": [],
      "metadata": {
        "id": "QxY2TGhxlOf8"
      },
      "execution_count": null,
      "outputs": []
    }
  ]
}
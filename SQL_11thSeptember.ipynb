{
  "nbformat": 4,
  "nbformat_minor": 0,
  "metadata": {
    "colab": {
      "provenance": [],
      "authorship_tag": "ABX9TyOut3CBuhEucdRGetjQiGfi",
      "include_colab_link": true
    },
    "kernelspec": {
      "name": "python3",
      "display_name": "Python 3"
    },
    "language_info": {
      "name": "python"
    }
  },
  "cells": [
    {
      "cell_type": "markdown",
      "metadata": {
        "id": "view-in-github",
        "colab_type": "text"
      },
      "source": [
        "<a href=\"https://colab.research.google.com/github/anish6701/DE_Assignments/blob/main/SQL_11thSeptember.ipynb\" target=\"_parent\"><img src=\"https://colab.research.google.com/assets/colab-badge.svg\" alt=\"Open In Colab\"/></a>"
      ]
    },
    {
      "cell_type": "markdown",
      "source": [
        "1) install required libraries\n",
        "2) import those libraries\n",
        "3) include those libraries\n",
        "\n",
        "! (exclaimation) is only used for colab."
      ],
      "metadata": {
        "id": "Ch7E0tJTaeAW"
      }
    },
    {
      "cell_type": "code",
      "source": [
        "!pip install ipython-sql\n",
        "%load_ext sql\n",
        "\n",
        "%sql sqlite://"
      ],
      "metadata": {
        "colab": {
          "base_uri": "https://localhost:8080/"
        },
        "collapsed": true,
        "id": "Dy_oFsvkZj29",
        "outputId": "eee26e40-77c2-4b3f-e61e-e54f2fb42db9"
      },
      "execution_count": null,
      "outputs": [
        {
          "output_type": "stream",
          "name": "stdout",
          "text": [
            "Requirement already satisfied: ipython-sql in /usr/local/lib/python3.10/dist-packages (0.5.0)\n",
            "Requirement already satisfied: prettytable in /usr/local/lib/python3.10/dist-packages (from ipython-sql) (3.11.0)\n",
            "Requirement already satisfied: ipython in /usr/local/lib/python3.10/dist-packages (from ipython-sql) (7.34.0)\n",
            "Requirement already satisfied: sqlalchemy>=2.0 in /usr/local/lib/python3.10/dist-packages (from ipython-sql) (2.0.34)\n",
            "Requirement already satisfied: sqlparse in /usr/local/lib/python3.10/dist-packages (from ipython-sql) (0.5.1)\n",
            "Requirement already satisfied: six in /usr/local/lib/python3.10/dist-packages (from ipython-sql) (1.16.0)\n",
            "Requirement already satisfied: ipython-genutils in /usr/local/lib/python3.10/dist-packages (from ipython-sql) (0.2.0)\n",
            "Requirement already satisfied: typing-extensions>=4.6.0 in /usr/local/lib/python3.10/dist-packages (from sqlalchemy>=2.0->ipython-sql) (4.12.2)\n",
            "Requirement already satisfied: greenlet!=0.4.17 in /usr/local/lib/python3.10/dist-packages (from sqlalchemy>=2.0->ipython-sql) (3.0.3)\n",
            "Requirement already satisfied: setuptools>=18.5 in /usr/local/lib/python3.10/dist-packages (from ipython->ipython-sql) (71.0.4)\n",
            "Requirement already satisfied: jedi>=0.16 in /usr/local/lib/python3.10/dist-packages (from ipython->ipython-sql) (0.19.1)\n",
            "Requirement already satisfied: decorator in /usr/local/lib/python3.10/dist-packages (from ipython->ipython-sql) (4.4.2)\n",
            "Requirement already satisfied: pickleshare in /usr/local/lib/python3.10/dist-packages (from ipython->ipython-sql) (0.7.5)\n",
            "Requirement already satisfied: traitlets>=4.2 in /usr/local/lib/python3.10/dist-packages (from ipython->ipython-sql) (5.7.1)\n",
            "Requirement already satisfied: prompt-toolkit!=3.0.0,!=3.0.1,<3.1.0,>=2.0.0 in /usr/local/lib/python3.10/dist-packages (from ipython->ipython-sql) (3.0.47)\n",
            "Requirement already satisfied: pygments in /usr/local/lib/python3.10/dist-packages (from ipython->ipython-sql) (2.16.1)\n",
            "Requirement already satisfied: backcall in /usr/local/lib/python3.10/dist-packages (from ipython->ipython-sql) (0.2.0)\n",
            "Requirement already satisfied: matplotlib-inline in /usr/local/lib/python3.10/dist-packages (from ipython->ipython-sql) (0.1.7)\n",
            "Requirement already satisfied: pexpect>4.3 in /usr/local/lib/python3.10/dist-packages (from ipython->ipython-sql) (4.9.0)\n",
            "Requirement already satisfied: wcwidth in /usr/local/lib/python3.10/dist-packages (from prettytable->ipython-sql) (0.2.13)\n",
            "Requirement already satisfied: parso<0.9.0,>=0.8.3 in /usr/local/lib/python3.10/dist-packages (from jedi>=0.16->ipython->ipython-sql) (0.8.4)\n",
            "Requirement already satisfied: ptyprocess>=0.5 in /usr/local/lib/python3.10/dist-packages (from pexpect>4.3->ipython->ipython-sql) (0.7.0)\n"
          ]
        }
      ]
    },
    {
      "cell_type": "code",
      "source": [
        "%%sql\n",
        "create table dim_product(\n",
        "  product_id INT primary_key,\n",
        "  product_name varchar(50),\n",
        "  product_category varchar(50));\n",
        "\n",
        "insert into dim_product(product_id, product_name, product_category) values\n",
        "  (1, 'laptop','electronics'),\n",
        "  (2, 'smartphone','electronics'),\n",
        "  (3, 'tshirt','clothing');\n",
        "\n",
        "create table dim_customer(\n",
        "  cust_id INT primary_key,\n",
        "  cust_name varchar(50),\n",
        "  city varchar(50));\n",
        "\n",
        "insert into dim_customer(cust_id, cust_name, city) values\n",
        "  (101, 'sameer','toronto'),\n",
        "  (102, 'raj','newmarket'),\n",
        "  (103, 'gopal','aurora');\n",
        "\n",
        "create table fact_sales(\n",
        "  sale_id INT primary_key,\n",
        "  product_id INT,\n",
        "  cust_id INT,\n",
        "  sale_date DATE,\n",
        "  quantity INT,\n",
        "  amount decimal(10,2),\n",
        "  FOREIGN KEY (product_id) references dim_product(product_id),\n",
        "  FOREIGN KEY (cust_id)references dim_customer(cust_id)\n",
        "  );\n",
        "\n",
        "\n",
        "insert into fact_sales(sale_id,product_id,cust_id, sale_date, quantity, amount) values\n",
        "  (1,1,101, '2024-09-11',2,1500.00),\n",
        "  (2,2,102, '2024-09-12',3,1487.98),\n",
        "  (3,3,103, '2024-09-13',2,1789.75);\n",
        "\n",
        "\n",
        "\n"
      ],
      "metadata": {
        "colab": {
          "base_uri": "https://localhost:8080/"
        },
        "id": "V1-rGISMdDDx",
        "outputId": "9f2297c0-bee9-4b47-acaf-5220df176a9c"
      },
      "execution_count": null,
      "outputs": [
        {
          "output_type": "stream",
          "name": "stdout",
          "text": [
            " * sqlite://\n",
            "Done.\n",
            "3 rows affected.\n",
            "Done.\n",
            "3 rows affected.\n",
            "Done.\n",
            "3 rows affected.\n"
          ]
        },
        {
          "output_type": "execute_result",
          "data": {
            "text/plain": [
              "[]"
            ]
          },
          "metadata": {},
          "execution_count": 15
        }
      ]
    },
    {
      "cell_type": "code",
      "source": [
        "%%sql\n",
        "select * from dim_product;\n"
      ],
      "metadata": {
        "colab": {
          "base_uri": "https://localhost:8080/",
          "height": 139
        },
        "id": "ufJjtV08dkGe",
        "outputId": "64e74d2b-ec87-4558-a7aa-01b217393009"
      },
      "execution_count": null,
      "outputs": [
        {
          "output_type": "stream",
          "name": "stdout",
          "text": [
            " * sqlite://\n",
            "Done.\n"
          ]
        },
        {
          "output_type": "execute_result",
          "data": {
            "text/plain": [
              "[(1, 'laptop', 'electronics'),\n",
              " (2, 'smartphone', 'electronics'),\n",
              " (3, 'tshirt', 'clothing')]"
            ],
            "text/html": [
              "<table>\n",
              "    <thead>\n",
              "        <tr>\n",
              "            <th>product_id</th>\n",
              "            <th>product_name</th>\n",
              "            <th>product_category</th>\n",
              "        </tr>\n",
              "    </thead>\n",
              "    <tbody>\n",
              "        <tr>\n",
              "            <td>1</td>\n",
              "            <td>laptop</td>\n",
              "            <td>electronics</td>\n",
              "        </tr>\n",
              "        <tr>\n",
              "            <td>2</td>\n",
              "            <td>smartphone</td>\n",
              "            <td>electronics</td>\n",
              "        </tr>\n",
              "        <tr>\n",
              "            <td>3</td>\n",
              "            <td>tshirt</td>\n",
              "            <td>clothing</td>\n",
              "        </tr>\n",
              "    </tbody>\n",
              "</table>"
            ]
          },
          "metadata": {},
          "execution_count": 18
        }
      ]
    },
    {
      "cell_type": "code",
      "source": [
        "%%sql\n",
        "select * from dim_customer;\n"
      ],
      "metadata": {
        "colab": {
          "base_uri": "https://localhost:8080/",
          "height": 139
        },
        "id": "btlOGFfxi6pn",
        "outputId": "671f5a2e-c9cb-4262-bd46-923ce323522d"
      },
      "execution_count": null,
      "outputs": [
        {
          "output_type": "stream",
          "name": "stdout",
          "text": [
            " * sqlite://\n",
            "Done.\n"
          ]
        },
        {
          "output_type": "execute_result",
          "data": {
            "text/plain": [
              "[(101, 'sameer', 'toronto'),\n",
              " (102, 'raj', 'newmarket'),\n",
              " (103, 'gopal', 'aurora')]"
            ],
            "text/html": [
              "<table>\n",
              "    <thead>\n",
              "        <tr>\n",
              "            <th>cust_id</th>\n",
              "            <th>cust_name</th>\n",
              "            <th>city</th>\n",
              "        </tr>\n",
              "    </thead>\n",
              "    <tbody>\n",
              "        <tr>\n",
              "            <td>101</td>\n",
              "            <td>sameer</td>\n",
              "            <td>toronto</td>\n",
              "        </tr>\n",
              "        <tr>\n",
              "            <td>102</td>\n",
              "            <td>raj</td>\n",
              "            <td>newmarket</td>\n",
              "        </tr>\n",
              "        <tr>\n",
              "            <td>103</td>\n",
              "            <td>gopal</td>\n",
              "            <td>aurora</td>\n",
              "        </tr>\n",
              "    </tbody>\n",
              "</table>"
            ]
          },
          "metadata": {},
          "execution_count": 19
        }
      ]
    },
    {
      "cell_type": "code",
      "source": [
        "%%sql\n",
        "select * from fact_sales;"
      ],
      "metadata": {
        "colab": {
          "base_uri": "https://localhost:8080/",
          "height": 139
        },
        "id": "ZhumKpJMi_Cg",
        "outputId": "4133f13a-39e2-4090-f0b3-8912baca3b24"
      },
      "execution_count": null,
      "outputs": [
        {
          "output_type": "stream",
          "name": "stdout",
          "text": [
            " * sqlite://\n",
            "Done.\n"
          ]
        },
        {
          "output_type": "execute_result",
          "data": {
            "text/plain": [
              "[(1, 1, 101, '2024-09-11', 2, 1500),\n",
              " (2, 2, 102, '2024-09-12', 3, 1487.98),\n",
              " (3, 3, 103, '2024-09-13', 2, 1789.75)]"
            ],
            "text/html": [
              "<table>\n",
              "    <thead>\n",
              "        <tr>\n",
              "            <th>sale_id</th>\n",
              "            <th>product_id</th>\n",
              "            <th>cust_id</th>\n",
              "            <th>sale_date</th>\n",
              "            <th>quantity</th>\n",
              "            <th>amount</th>\n",
              "        </tr>\n",
              "    </thead>\n",
              "    <tbody>\n",
              "        <tr>\n",
              "            <td>1</td>\n",
              "            <td>1</td>\n",
              "            <td>101</td>\n",
              "            <td>2024-09-11</td>\n",
              "            <td>2</td>\n",
              "            <td>1500</td>\n",
              "        </tr>\n",
              "        <tr>\n",
              "            <td>2</td>\n",
              "            <td>2</td>\n",
              "            <td>102</td>\n",
              "            <td>2024-09-12</td>\n",
              "            <td>3</td>\n",
              "            <td>1487.98</td>\n",
              "        </tr>\n",
              "        <tr>\n",
              "            <td>3</td>\n",
              "            <td>3</td>\n",
              "            <td>103</td>\n",
              "            <td>2024-09-13</td>\n",
              "            <td>2</td>\n",
              "            <td>1789.75</td>\n",
              "        </tr>\n",
              "    </tbody>\n",
              "</table>"
            ]
          },
          "metadata": {},
          "execution_count": 20
        }
      ]
    },
    {
      "cell_type": "code",
      "source": [
        "%%sql\n",
        "select * from fact_sales\n",
        "where sale_id==2;"
      ],
      "metadata": {
        "colab": {
          "base_uri": "https://localhost:8080/",
          "height": 96
        },
        "id": "3t_Ccyc-p-7q",
        "outputId": "b0cb4e13-e4a8-4992-bb0d-df53693d4b0e"
      },
      "execution_count": null,
      "outputs": [
        {
          "output_type": "stream",
          "name": "stdout",
          "text": [
            " * sqlite://\n",
            "Done.\n"
          ]
        },
        {
          "output_type": "execute_result",
          "data": {
            "text/plain": [
              "[(2, 2, 102, '2024-09-12', 3, 1487.98)]"
            ],
            "text/html": [
              "<table>\n",
              "    <thead>\n",
              "        <tr>\n",
              "            <th>sale_id</th>\n",
              "            <th>product_id</th>\n",
              "            <th>cust_id</th>\n",
              "            <th>sale_date</th>\n",
              "            <th>quantity</th>\n",
              "            <th>amount</th>\n",
              "        </tr>\n",
              "    </thead>\n",
              "    <tbody>\n",
              "        <tr>\n",
              "            <td>2</td>\n",
              "            <td>2</td>\n",
              "            <td>102</td>\n",
              "            <td>2024-09-12</td>\n",
              "            <td>3</td>\n",
              "            <td>1487.98</td>\n",
              "        </tr>\n",
              "    </tbody>\n",
              "</table>"
            ]
          },
          "metadata": {},
          "execution_count": 21
        }
      ]
    },
    {
      "cell_type": "code",
      "source": [
        "%%sql\n",
        "select * from fact_sales\n",
        "where amount <=1500 and quantity >2 ;"
      ],
      "metadata": {
        "colab": {
          "base_uri": "https://localhost:8080/",
          "height": 96
        },
        "id": "L952QU7HqrKN",
        "outputId": "abcefa44-7aee-4a4c-9f88-602456cb22fe"
      },
      "execution_count": null,
      "outputs": [
        {
          "output_type": "stream",
          "name": "stdout",
          "text": [
            " * sqlite://\n",
            "Done.\n"
          ]
        },
        {
          "output_type": "execute_result",
          "data": {
            "text/plain": [
              "[(2, 2, 102, '2024-09-12', 3, 1487.98)]"
            ],
            "text/html": [
              "<table>\n",
              "    <thead>\n",
              "        <tr>\n",
              "            <th>sale_id</th>\n",
              "            <th>product_id</th>\n",
              "            <th>cust_id</th>\n",
              "            <th>sale_date</th>\n",
              "            <th>quantity</th>\n",
              "            <th>amount</th>\n",
              "        </tr>\n",
              "    </thead>\n",
              "    <tbody>\n",
              "        <tr>\n",
              "            <td>2</td>\n",
              "            <td>2</td>\n",
              "            <td>102</td>\n",
              "            <td>2024-09-12</td>\n",
              "            <td>3</td>\n",
              "            <td>1487.98</td>\n",
              "        </tr>\n",
              "    </tbody>\n",
              "</table>"
            ]
          },
          "metadata": {},
          "execution_count": 23
        }
      ]
    },
    {
      "cell_type": "code",
      "source": [
        "%%sql\n",
        "select * from fact_sales where sale_date between '2024-09-01' and '2024-09-11';"
      ],
      "metadata": {
        "colab": {
          "base_uri": "https://localhost:8080/",
          "height": 96
        },
        "id": "GZFV-WqAsq8t",
        "outputId": "ac450b7a-4227-4d32-c21b-18c9a4309958"
      },
      "execution_count": null,
      "outputs": [
        {
          "output_type": "stream",
          "name": "stdout",
          "text": [
            " * sqlite://\n",
            "Done.\n"
          ]
        },
        {
          "output_type": "execute_result",
          "data": {
            "text/plain": [
              "[(1, 1, 101, '2024-09-11', 2, 1500)]"
            ],
            "text/html": [
              "<table>\n",
              "    <thead>\n",
              "        <tr>\n",
              "            <th>sale_id</th>\n",
              "            <th>product_id</th>\n",
              "            <th>cust_id</th>\n",
              "            <th>sale_date</th>\n",
              "            <th>quantity</th>\n",
              "            <th>amount</th>\n",
              "        </tr>\n",
              "    </thead>\n",
              "    <tbody>\n",
              "        <tr>\n",
              "            <td>1</td>\n",
              "            <td>1</td>\n",
              "            <td>101</td>\n",
              "            <td>2024-09-11</td>\n",
              "            <td>2</td>\n",
              "            <td>1500</td>\n",
              "        </tr>\n",
              "    </tbody>\n",
              "</table>"
            ]
          },
          "metadata": {},
          "execution_count": 28
        }
      ]
    },
    {
      "cell_type": "code",
      "source": [
        "%%sql\n",
        "select * from fact_sales order by amount desc;"
      ],
      "metadata": {
        "colab": {
          "base_uri": "https://localhost:8080/",
          "height": 139
        },
        "id": "cEUCRCeZtO9r",
        "outputId": "d1d476a9-cb09-4afc-b2b6-fc68a1f13bda"
      },
      "execution_count": null,
      "outputs": [
        {
          "output_type": "stream",
          "name": "stdout",
          "text": [
            " * sqlite://\n",
            "Done.\n"
          ]
        },
        {
          "output_type": "execute_result",
          "data": {
            "text/plain": [
              "[(3, 3, 103, '2024-09-13', 2, 1789.75),\n",
              " (1, 1, 101, '2024-09-11', 2, 1500),\n",
              " (2, 2, 102, '2024-09-12', 3, 1487.98)]"
            ],
            "text/html": [
              "<table>\n",
              "    <thead>\n",
              "        <tr>\n",
              "            <th>sale_id</th>\n",
              "            <th>product_id</th>\n",
              "            <th>cust_id</th>\n",
              "            <th>sale_date</th>\n",
              "            <th>quantity</th>\n",
              "            <th>amount</th>\n",
              "        </tr>\n",
              "    </thead>\n",
              "    <tbody>\n",
              "        <tr>\n",
              "            <td>3</td>\n",
              "            <td>3</td>\n",
              "            <td>103</td>\n",
              "            <td>2024-09-13</td>\n",
              "            <td>2</td>\n",
              "            <td>1789.75</td>\n",
              "        </tr>\n",
              "        <tr>\n",
              "            <td>1</td>\n",
              "            <td>1</td>\n",
              "            <td>101</td>\n",
              "            <td>2024-09-11</td>\n",
              "            <td>2</td>\n",
              "            <td>1500</td>\n",
              "        </tr>\n",
              "        <tr>\n",
              "            <td>2</td>\n",
              "            <td>2</td>\n",
              "            <td>102</td>\n",
              "            <td>2024-09-12</td>\n",
              "            <td>3</td>\n",
              "            <td>1487.98</td>\n",
              "        </tr>\n",
              "    </tbody>\n",
              "</table>"
            ]
          },
          "metadata": {},
          "execution_count": 30
        }
      ]
    },
    {
      "cell_type": "code",
      "source": [],
      "metadata": {
        "id": "7gzfWCElttHH"
      },
      "execution_count": null,
      "outputs": []
    }
  ]
}